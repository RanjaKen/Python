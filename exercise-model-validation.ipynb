{
 "cells": [
  {
   "cell_type": "markdown",
   "id": "6587ae6f",
   "metadata": {
    "papermill": {
     "duration": 0.007304,
     "end_time": "2024-11-03T08:25:27.601341",
     "exception": false,
     "start_time": "2024-11-03T08:25:27.594037",
     "status": "completed"
    },
    "tags": []
   },
   "source": [
    "**This notebook is an exercise in the [Introduction to Machine Learning](https://www.kaggle.com/learn/intro-to-machine-learning) course.  You can reference the tutorial at [this link](https://www.kaggle.com/dansbecker/model-validation).**\n",
    "\n",
    "---\n"
   ]
  },
  {
   "cell_type": "markdown",
   "id": "f0698066",
   "metadata": {
    "papermill": {
     "duration": 0.006057,
     "end_time": "2024-11-03T08:25:27.613973",
     "exception": false,
     "start_time": "2024-11-03T08:25:27.607916",
     "status": "completed"
    },
    "tags": []
   },
   "source": [
    "## Recap\n",
    "You've built a model. In this exercise you will test how good your model is.\n",
    "\n",
    "Run the cell below to set up your coding environment where the previous exercise left off."
   ]
  },
  {
   "cell_type": "code",
   "execution_count": 1,
   "id": "5d89d683",
   "metadata": {
    "execution": {
     "iopub.execute_input": "2024-11-03T08:25:27.629117Z",
     "iopub.status.busy": "2024-11-03T08:25:27.628593Z",
     "iopub.status.idle": "2024-11-03T08:25:31.419150Z",
     "shell.execute_reply": "2024-11-03T08:25:31.417747Z"
    },
    "papermill": {
     "duration": 3.802164,
     "end_time": "2024-11-03T08:25:31.422627",
     "exception": false,
     "start_time": "2024-11-03T08:25:27.620463",
     "status": "completed"
    },
    "tags": []
   },
   "outputs": [
    {
     "name": "stdout",
     "output_type": "stream",
     "text": [
      "First in-sample predictions: [208500. 181500. 223500. 140000. 250000.]\n",
      "Actual target values for those homes: [208500, 181500, 223500, 140000, 250000]\n",
      "Setup Complete\n"
     ]
    }
   ],
   "source": [
    "# Code you have previously used to load data\n",
    "import pandas as pd\n",
    "from sklearn.tree import DecisionTreeRegressor\n",
    "\n",
    "# Path of the file to read\n",
    "iowa_file_path = '../input/home-data-for-ml-course/train.csv'\n",
    "\n",
    "home_data = pd.read_csv(iowa_file_path)\n",
    "y = home_data.SalePrice\n",
    "feature_columns = ['LotArea', 'YearBuilt', '1stFlrSF', '2ndFlrSF', 'FullBath', 'BedroomAbvGr', 'TotRmsAbvGrd']\n",
    "X = home_data[feature_columns]\n",
    "\n",
    "# Specify Model\n",
    "iowa_model = DecisionTreeRegressor()\n",
    "# Fit Model\n",
    "iowa_model.fit(X, y)\n",
    "\n",
    "print(\"First in-sample predictions:\", iowa_model.predict(X.head()))\n",
    "print(\"Actual target values for those homes:\", y.head().tolist())\n",
    "\n",
    "# Set up code checking\n",
    "from learntools.core import binder\n",
    "binder.bind(globals())\n",
    "from learntools.machine_learning.ex4 import *\n",
    "print(\"Setup Complete\")"
   ]
  },
  {
   "cell_type": "markdown",
   "id": "33c87116",
   "metadata": {
    "papermill": {
     "duration": 0.006424,
     "end_time": "2024-11-03T08:25:31.435817",
     "exception": false,
     "start_time": "2024-11-03T08:25:31.429393",
     "status": "completed"
    },
    "tags": []
   },
   "source": [
    "# Exercises\n",
    "\n",
    "## Step 1: Split Your Data\n",
    "Use the `train_test_split` function to split up your data.\n",
    "\n",
    "Give it the argument `random_state=1` so the `check` functions know what to expect when verifying your code.\n",
    "\n",
    "Recall, your features are loaded in the DataFrame **X** and your target is loaded in **y**.\n"
   ]
  },
  {
   "cell_type": "code",
   "execution_count": 2,
   "id": "1e5ccad5",
   "metadata": {
    "execution": {
     "iopub.execute_input": "2024-11-03T08:25:31.450687Z",
     "iopub.status.busy": "2024-11-03T08:25:31.450217Z",
     "iopub.status.idle": "2024-11-03T08:25:31.473266Z",
     "shell.execute_reply": "2024-11-03T08:25:31.471700Z"
    },
    "papermill": {
     "duration": 0.033868,
     "end_time": "2024-11-03T08:25:31.476074",
     "exception": false,
     "start_time": "2024-11-03T08:25:31.442206",
     "status": "completed"
    },
    "tags": []
   },
   "outputs": [
    {
     "data": {
      "application/javascript": [
       "parent.postMessage({\"jupyterEvent\": \"custom.exercise_interaction\", \"data\": {\"outcomeType\": 1, \"valueTowardsCompletion\": 0.25, \"interactionType\": 1, \"questionType\": 2, \"questionId\": \"1_SplitData\", \"learnToolsVersion\": \"0.3.4\", \"failureMessage\": \"\", \"exceptionClass\": \"\", \"trace\": \"\"}}, \"*\")"
      ],
      "text/plain": [
       "<IPython.core.display.Javascript object>"
      ]
     },
     "metadata": {},
     "output_type": "display_data"
    },
    {
     "data": {
      "text/markdown": [
       "<span style=\"color:#33cc33\">Correct</span>"
      ],
      "text/plain": [
       "Correct"
      ]
     },
     "metadata": {},
     "output_type": "display_data"
    }
   ],
   "source": [
    "from sklearn.model_selection import train_test_split\n",
    "\n",
    "train_X, val_X, train_y, val_y = train_test_split(X, y, random_state = 1)\n",
    "step_1.check()"
   ]
  },
  {
   "cell_type": "code",
   "execution_count": 3,
   "id": "7cbfb74b",
   "metadata": {
    "execution": {
     "iopub.execute_input": "2024-11-03T08:25:31.492145Z",
     "iopub.status.busy": "2024-11-03T08:25:31.491680Z",
     "iopub.status.idle": "2024-11-03T08:25:31.497155Z",
     "shell.execute_reply": "2024-11-03T08:25:31.495857Z"
    },
    "papermill": {
     "duration": 0.01714,
     "end_time": "2024-11-03T08:25:31.500209",
     "exception": false,
     "start_time": "2024-11-03T08:25:31.483069",
     "status": "completed"
    },
    "tags": []
   },
   "outputs": [],
   "source": [
    "# The lines below will show you a hint or the solution.\n",
    "# step_1.hint() \n",
    "# step_1.solution()\n"
   ]
  },
  {
   "cell_type": "markdown",
   "id": "bc8ec378",
   "metadata": {
    "papermill": {
     "duration": 0.006725,
     "end_time": "2024-11-03T08:25:31.513850",
     "exception": false,
     "start_time": "2024-11-03T08:25:31.507125",
     "status": "completed"
    },
    "tags": []
   },
   "source": [
    "## Step 2: Specify and Fit the Model\n",
    "\n",
    "Create a `DecisionTreeRegressor` model and fit it to the relevant data.\n",
    "Set `random_state` to 1 again when creating the model."
   ]
  },
  {
   "cell_type": "code",
   "execution_count": 4,
   "id": "841afeab",
   "metadata": {
    "execution": {
     "iopub.execute_input": "2024-11-03T08:25:31.531035Z",
     "iopub.status.busy": "2024-11-03T08:25:31.530545Z",
     "iopub.status.idle": "2024-11-03T08:25:31.566137Z",
     "shell.execute_reply": "2024-11-03T08:25:31.564376Z"
    },
    "papermill": {
     "duration": 0.048315,
     "end_time": "2024-11-03T08:25:31.569105",
     "exception": false,
     "start_time": "2024-11-03T08:25:31.520790",
     "status": "completed"
    },
    "tags": []
   },
   "outputs": [
    {
     "name": "stdout",
     "output_type": "stream",
     "text": [
      "[186500. 184000. 130000.  92000. 164500. 220000. 335000. 144152. 215000.\n",
      " 262000.]\n",
      "[186500. 184000. 130000.  92000. 164500. 220000. 335000. 144152. 215000.\n",
      " 262000.]\n"
     ]
    },
    {
     "data": {
      "application/javascript": [
       "parent.postMessage({\"jupyterEvent\": \"custom.exercise_interaction\", \"data\": {\"outcomeType\": 1, \"valueTowardsCompletion\": 0.25, \"interactionType\": 1, \"questionType\": 2, \"questionId\": \"2_FitModelWithTrain\", \"learnToolsVersion\": \"0.3.4\", \"failureMessage\": \"\", \"exceptionClass\": \"\", \"trace\": \"\"}}, \"*\")"
      ],
      "text/plain": [
       "<IPython.core.display.Javascript object>"
      ]
     },
     "metadata": {},
     "output_type": "display_data"
    },
    {
     "data": {
      "text/markdown": [
       "<span style=\"color:#33cc33\">Correct</span>"
      ],
      "text/plain": [
       "Correct"
      ]
     },
     "metadata": {},
     "output_type": "display_data"
    }
   ],
   "source": [
    "# You imported DecisionTreeRegressor in your last exercise\n",
    "# and that code has been copied to the setup code above. So, no need to\n",
    "# import it again\n",
    "\n",
    "# Specify the model\n",
    "iowa_model = DecisionTreeRegressor(random_state = 1)\n",
    "\n",
    "# Fit iowa_model with the training data.\n",
    "iowa_model.fit(train_X, train_y)\n",
    "\n",
    "# Check your answer\n",
    "step_2.check()"
   ]
  },
  {
   "cell_type": "code",
   "execution_count": 5,
   "id": "dcb248e0",
   "metadata": {
    "execution": {
     "iopub.execute_input": "2024-11-03T08:25:31.586200Z",
     "iopub.status.busy": "2024-11-03T08:25:31.585748Z",
     "iopub.status.idle": "2024-11-03T08:25:31.591793Z",
     "shell.execute_reply": "2024-11-03T08:25:31.590207Z"
    },
    "papermill": {
     "duration": 0.018203,
     "end_time": "2024-11-03T08:25:31.594739",
     "exception": false,
     "start_time": "2024-11-03T08:25:31.576536",
     "status": "completed"
    },
    "tags": []
   },
   "outputs": [],
   "source": [
    "# step_2.hint()\n",
    "# step_2.solution()"
   ]
  },
  {
   "cell_type": "markdown",
   "id": "6408a4c8",
   "metadata": {
    "papermill": {
     "duration": 0.007005,
     "end_time": "2024-11-03T08:25:31.609196",
     "exception": false,
     "start_time": "2024-11-03T08:25:31.602191",
     "status": "completed"
    },
    "tags": []
   },
   "source": [
    "## Step 3: Make Predictions with Validation data\n"
   ]
  },
  {
   "cell_type": "code",
   "execution_count": 6,
   "id": "4e9ffcef",
   "metadata": {
    "execution": {
     "iopub.execute_input": "2024-11-03T08:25:31.626591Z",
     "iopub.status.busy": "2024-11-03T08:25:31.625546Z",
     "iopub.status.idle": "2024-11-03T08:25:31.640597Z",
     "shell.execute_reply": "2024-11-03T08:25:31.639331Z"
    },
    "papermill": {
     "duration": 0.026625,
     "end_time": "2024-11-03T08:25:31.643244",
     "exception": false,
     "start_time": "2024-11-03T08:25:31.616619",
     "status": "completed"
    },
    "tags": []
   },
   "outputs": [
    {
     "data": {
      "application/javascript": [
       "parent.postMessage({\"jupyterEvent\": \"custom.exercise_interaction\", \"data\": {\"outcomeType\": 1, \"valueTowardsCompletion\": 0.25, \"interactionType\": 1, \"questionType\": 2, \"questionId\": \"3_ValPreds\", \"learnToolsVersion\": \"0.3.4\", \"failureMessage\": \"\", \"exceptionClass\": \"\", \"trace\": \"\"}}, \"*\")"
      ],
      "text/plain": [
       "<IPython.core.display.Javascript object>"
      ]
     },
     "metadata": {},
     "output_type": "display_data"
    },
    {
     "data": {
      "text/markdown": [
       "<span style=\"color:#33cc33\">Correct</span>"
      ],
      "text/plain": [
       "Correct"
      ]
     },
     "metadata": {},
     "output_type": "display_data"
    }
   ],
   "source": [
    "# Predict with all validation observations\n",
    "val_predictions = iowa_model.predict(val_X) \n",
    "\n",
    "# Check your answer\n",
    "step_3.check()"
   ]
  },
  {
   "cell_type": "code",
   "execution_count": 7,
   "id": "64abf2fb",
   "metadata": {
    "execution": {
     "iopub.execute_input": "2024-11-03T08:25:31.660409Z",
     "iopub.status.busy": "2024-11-03T08:25:31.659935Z",
     "iopub.status.idle": "2024-11-03T08:25:31.665490Z",
     "shell.execute_reply": "2024-11-03T08:25:31.663948Z"
    },
    "papermill": {
     "duration": 0.017393,
     "end_time": "2024-11-03T08:25:31.668290",
     "exception": false,
     "start_time": "2024-11-03T08:25:31.650897",
     "status": "completed"
    },
    "tags": []
   },
   "outputs": [],
   "source": [
    "# step_3.hint()\n",
    "# step_3.solution()"
   ]
  },
  {
   "cell_type": "markdown",
   "id": "1bd12da8",
   "metadata": {
    "papermill": {
     "duration": 0.00784,
     "end_time": "2024-11-03T08:25:31.685612",
     "exception": false,
     "start_time": "2024-11-03T08:25:31.677772",
     "status": "completed"
    },
    "tags": []
   },
   "source": [
    "Inspect your predictions and actual values from validation data."
   ]
  },
  {
   "cell_type": "code",
   "execution_count": 8,
   "id": "ffade39e",
   "metadata": {
    "execution": {
     "iopub.execute_input": "2024-11-03T08:25:31.703721Z",
     "iopub.status.busy": "2024-11-03T08:25:31.703219Z",
     "iopub.status.idle": "2024-11-03T08:25:31.719902Z",
     "shell.execute_reply": "2024-11-03T08:25:31.718182Z"
    },
    "papermill": {
     "duration": 0.029844,
     "end_time": "2024-11-03T08:25:31.723413",
     "exception": false,
     "start_time": "2024-11-03T08:25:31.693569",
     "status": "completed"
    },
    "tags": []
   },
   "outputs": [
    {
     "name": "stdout",
     "output_type": "stream",
     "text": [
      "   LotArea  YearBuilt  1stFlrSF  2ndFlrSF  FullBath  BedroomAbvGr  \\\n",
      "0     8450       2003       856       854         2             3   \n",
      "1     9600       1976      1262         0         2             3   \n",
      "2    11250       2001       920       866         2             3   \n",
      "3     9550       1915       961       756         1             3   \n",
      "4    14260       2000      1145      1053         2             4   \n",
      "\n",
      "   TotRmsAbvGrd  \n",
      "0             8  \n",
      "1             6  \n",
      "2             6  \n",
      "3             7  \n",
      "4             9  \n",
      "      LotArea  YearBuilt  1stFlrSF  2ndFlrSF  FullBath  BedroomAbvGr  \\\n",
      "258     12435       2001       963       829         2             3   \n",
      "267      8400       1939      1052       720         2             4   \n",
      "288      9819       1967       900         0         1             3   \n",
      "649      1936       1970       630         0         1             1   \n",
      "1233    12160       1959      1188         0         1             3   \n",
      "\n",
      "      TotRmsAbvGrd  \n",
      "258              7  \n",
      "267              8  \n",
      "288              5  \n",
      "649              3  \n",
      "1233             6  \n"
     ]
    }
   ],
   "source": [
    "# print the top few validation predictions\n",
    "print(X.head())\n",
    "# print the top few actual prices from validation data\n",
    "print(val_X.head())"
   ]
  },
  {
   "cell_type": "markdown",
   "id": "354ed8ec",
   "metadata": {
    "papermill": {
     "duration": 0.007508,
     "end_time": "2024-11-03T08:25:31.738753",
     "exception": false,
     "start_time": "2024-11-03T08:25:31.731245",
     "status": "completed"
    },
    "tags": []
   },
   "source": [
    "What do you notice that is different from what you saw with in-sample predictions (which are printed after the top code cell in this page).\n",
    "\n",
    "Do you remember why validation predictions differ from in-sample (or training) predictions? This is an important idea from the last lesson.\n",
    "\n",
    "## Step 4: Calculate the Mean Absolute Error in Validation Data\n"
   ]
  },
  {
   "cell_type": "code",
   "execution_count": 9,
   "id": "455c2db6",
   "metadata": {
    "execution": {
     "iopub.execute_input": "2024-11-03T08:25:31.756777Z",
     "iopub.status.busy": "2024-11-03T08:25:31.756355Z",
     "iopub.status.idle": "2024-11-03T08:25:31.769318Z",
     "shell.execute_reply": "2024-11-03T08:25:31.768059Z"
    },
    "papermill": {
     "duration": 0.026564,
     "end_time": "2024-11-03T08:25:31.773212",
     "exception": false,
     "start_time": "2024-11-03T08:25:31.746648",
     "status": "completed"
    },
    "tags": []
   },
   "outputs": [
    {
     "name": "stdout",
     "output_type": "stream",
     "text": [
      "29652.931506849316\n"
     ]
    },
    {
     "data": {
      "application/javascript": [
       "parent.postMessage({\"jupyterEvent\": \"custom.exercise_interaction\", \"data\": {\"outcomeType\": 1, \"valueTowardsCompletion\": 0.25, \"interactionType\": 1, \"questionType\": 1, \"questionId\": \"4_MAE\", \"learnToolsVersion\": \"0.3.4\", \"failureMessage\": \"\", \"exceptionClass\": \"\", \"trace\": \"\"}}, \"*\")"
      ],
      "text/plain": [
       "<IPython.core.display.Javascript object>"
      ]
     },
     "metadata": {},
     "output_type": "display_data"
    },
    {
     "data": {
      "text/markdown": [
       "<span style=\"color:#33cc33\">Correct</span>"
      ],
      "text/plain": [
       "Correct"
      ]
     },
     "metadata": {},
     "output_type": "display_data"
    }
   ],
   "source": [
    "from sklearn.metrics import mean_absolute_error\n",
    "val_mae = mean_absolute_error(val_y, val_predictions)\n",
    "\n",
    "# uncomment following line to see the validation_mae\n",
    "print(val_mae)\n",
    "\n",
    "# Check your answer\n",
    "step_4.check()"
   ]
  },
  {
   "cell_type": "code",
   "execution_count": 10,
   "id": "de7a21ee",
   "metadata": {
    "execution": {
     "iopub.execute_input": "2024-11-03T08:25:31.792590Z",
     "iopub.status.busy": "2024-11-03T08:25:31.791962Z",
     "iopub.status.idle": "2024-11-03T08:25:31.798016Z",
     "shell.execute_reply": "2024-11-03T08:25:31.796500Z"
    },
    "papermill": {
     "duration": 0.019428,
     "end_time": "2024-11-03T08:25:31.800810",
     "exception": false,
     "start_time": "2024-11-03T08:25:31.781382",
     "status": "completed"
    },
    "tags": []
   },
   "outputs": [],
   "source": [
    "# step_4.hint()\n",
    "# step_4.solution()"
   ]
  },
  {
   "cell_type": "markdown",
   "id": "c8dffed5",
   "metadata": {
    "papermill": {
     "duration": 0.008019,
     "end_time": "2024-11-03T08:25:31.817142",
     "exception": false,
     "start_time": "2024-11-03T08:25:31.809123",
     "status": "completed"
    },
    "tags": []
   },
   "source": [
    "Is that MAE good?  There isn't a general rule for what values are good that applies across applications. But you'll see how to use (and improve) this number in the next step.\n",
    "\n",
    "# Keep Going\n",
    "\n",
    "You are ready for **[Underfitting and Overfitting](https://www.kaggle.com/dansbecker/underfitting-and-overfitting).**\n"
   ]
  },
  {
   "cell_type": "markdown",
   "id": "1a9bcc46",
   "metadata": {
    "papermill": {
     "duration": 0.008014,
     "end_time": "2024-11-03T08:25:31.833830",
     "exception": false,
     "start_time": "2024-11-03T08:25:31.825816",
     "status": "completed"
    },
    "tags": []
   },
   "source": [
    "---\n",
    "\n",
    "\n",
    "\n",
    "\n",
    "*Have questions or comments? Visit the [course discussion forum](https://www.kaggle.com/learn/intro-to-machine-learning/discussion) to chat with other learners.*"
   ]
  }
 ],
 "metadata": {
  "kaggle": {
   "accelerator": "none",
   "dataSources": [
    {
     "databundleVersionId": 111096,
     "sourceId": 10211,
     "sourceType": "competition"
    },
    {
     "datasetId": 11167,
     "sourceId": 15520,
     "sourceType": "datasetVersion"
    },
    {
     "datasetId": 2709,
     "sourceId": 38454,
     "sourceType": "datasetVersion"
    }
   ],
   "isGpuEnabled": false,
   "isInternetEnabled": false,
   "language": "python",
   "sourceType": "notebook"
  },
  "kernelspec": {
   "display_name": "Python 3",
   "language": "python",
   "name": "python3"
  },
  "language_info": {
   "codemirror_mode": {
    "name": "ipython",
    "version": 3
   },
   "file_extension": ".py",
   "mimetype": "text/x-python",
   "name": "python",
   "nbconvert_exporter": "python",
   "pygments_lexer": "ipython3",
   "version": "3.10.14"
  },
  "papermill": {
   "default_parameters": {},
   "duration": 8.460455,
   "end_time": "2024-11-03T08:25:32.567061",
   "environment_variables": {},
   "exception": null,
   "input_path": "__notebook__.ipynb",
   "output_path": "__notebook__.ipynb",
   "parameters": {},
   "start_time": "2024-11-03T08:25:24.106606",
   "version": "2.6.0"
  }
 },
 "nbformat": 4,
 "nbformat_minor": 5
}
