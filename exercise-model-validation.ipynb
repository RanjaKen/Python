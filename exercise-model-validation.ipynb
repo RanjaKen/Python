{
 "cells": [
  {
   "cell_type": "markdown",
   "id": "908317e3",
   "metadata": {
    "papermill": {
     "duration": 0.007585,
     "end_time": "2024-11-03T08:24:44.368718",
     "exception": false,
     "start_time": "2024-11-03T08:24:44.361133",
     "status": "completed"
    },
    "tags": []
   },
   "source": [
    "**This notebook is an exercise in the [Introduction to Machine Learning](https://www.kaggle.com/learn/intro-to-machine-learning) course.  You can reference the tutorial at [this link](https://www.kaggle.com/dansbecker/model-validation).**\n",
    "\n",
    "---\n"
   ]
  },
  {
   "cell_type": "markdown",
   "id": "8c1038f6",
   "metadata": {
    "papermill": {
     "duration": 0.006297,
     "end_time": "2024-11-03T08:24:44.381744",
     "exception": false,
     "start_time": "2024-11-03T08:24:44.375447",
     "status": "completed"
    },
    "tags": []
   },
   "source": [
    "## Recap\n",
    "You've built a model. In this exercise you will test how good your model is.\n",
    "\n",
    "Run the cell below to set up your coding environment where the previous exercise left off."
   ]
  },
  {
   "cell_type": "code",
   "execution_count": 1,
   "id": "a5ae79f5",
   "metadata": {
    "execution": {
     "iopub.execute_input": "2024-11-03T08:24:44.396885Z",
     "iopub.status.busy": "2024-11-03T08:24:44.396126Z",
     "iopub.status.idle": "2024-11-03T08:24:47.412150Z",
     "shell.execute_reply": "2024-11-03T08:24:47.410713Z"
    },
    "papermill": {
     "duration": 3.026742,
     "end_time": "2024-11-03T08:24:47.414887",
     "exception": false,
     "start_time": "2024-11-03T08:24:44.388145",
     "status": "completed"
    },
    "tags": []
   },
   "outputs": [
    {
     "name": "stdout",
     "output_type": "stream",
     "text": [
      "First in-sample predictions: [208500. 181500. 223500. 140000. 250000.]\n",
      "Actual target values for those homes: [208500, 181500, 223500, 140000, 250000]\n",
      "Setup Complete\n"
     ]
    }
   ],
   "source": [
    "# Code you have previously used to load data\n",
    "import pandas as pd\n",
    "from sklearn.tree import DecisionTreeRegressor\n",
    "\n",
    "# Path of the file to read\n",
    "iowa_file_path = '../input/home-data-for-ml-course/train.csv'\n",
    "\n",
    "home_data = pd.read_csv(iowa_file_path)\n",
    "y = home_data.SalePrice\n",
    "feature_columns = ['LotArea', 'YearBuilt', '1stFlrSF', '2ndFlrSF', 'FullBath', 'BedroomAbvGr', 'TotRmsAbvGrd']\n",
    "X = home_data[feature_columns]\n",
    "\n",
    "# Specify Model\n",
    "iowa_model = DecisionTreeRegressor()\n",
    "# Fit Model\n",
    "iowa_model.fit(X, y)\n",
    "\n",
    "print(\"First in-sample predictions:\", iowa_model.predict(X.head()))\n",
    "print(\"Actual target values for those homes:\", y.head().tolist())\n",
    "\n",
    "# Set up code checking\n",
    "from learntools.core import binder\n",
    "binder.bind(globals())\n",
    "from learntools.machine_learning.ex4 import *\n",
    "print(\"Setup Complete\")"
   ]
  },
  {
   "cell_type": "markdown",
   "id": "d6b724b4",
   "metadata": {
    "papermill": {
     "duration": 0.006675,
     "end_time": "2024-11-03T08:24:47.428131",
     "exception": false,
     "start_time": "2024-11-03T08:24:47.421456",
     "status": "completed"
    },
    "tags": []
   },
   "source": [
    "# Exercises\n",
    "\n",
    "## Step 1: Split Your Data\n",
    "Use the `train_test_split` function to split up your data.\n",
    "\n",
    "Give it the argument `random_state=1` so the `check` functions know what to expect when verifying your code.\n",
    "\n",
    "Recall, your features are loaded in the DataFrame **X** and your target is loaded in **y**.\n"
   ]
  },
  {
   "cell_type": "code",
   "execution_count": 2,
   "id": "717f7803",
   "metadata": {
    "execution": {
     "iopub.execute_input": "2024-11-03T08:24:47.443046Z",
     "iopub.status.busy": "2024-11-03T08:24:47.442554Z",
     "iopub.status.idle": "2024-11-03T08:24:47.462137Z",
     "shell.execute_reply": "2024-11-03T08:24:47.460798Z"
    },
    "papermill": {
     "duration": 0.030776,
     "end_time": "2024-11-03T08:24:47.465309",
     "exception": false,
     "start_time": "2024-11-03T08:24:47.434533",
     "status": "completed"
    },
    "tags": []
   },
   "outputs": [
    {
     "data": {
      "application/javascript": [
       "parent.postMessage({\"jupyterEvent\": \"custom.exercise_interaction\", \"data\": {\"outcomeType\": 2, \"failureMessage\": \"The training data had different rows than expected\", \"interactionType\": 1, \"questionType\": 2, \"questionId\": \"1_SplitData\", \"learnToolsVersion\": \"0.3.4\", \"valueTowardsCompletion\": 0.0, \"exceptionClass\": \"\", \"trace\": \"\"}}, \"*\")"
      ],
      "text/plain": [
       "<IPython.core.display.Javascript object>"
      ]
     },
     "metadata": {},
     "output_type": "display_data"
    },
    {
     "data": {
      "text/markdown": [
       "<span style=\"color:#cc3333\">Incorrect:</span> The training data had different rows than expected"
      ],
      "text/plain": [
       "Incorrect: The training data had different rows than expected"
      ]
     },
     "metadata": {},
     "output_type": "display_data"
    }
   ],
   "source": [
    "from sklearn.model_selection import train_test_split\n",
    "\n",
    "train_X, val_X, train_y, val_y = train_test_split(X, y, random_state = 0)\n",
    "step_1.check()"
   ]
  },
  {
   "cell_type": "code",
   "execution_count": 3,
   "id": "87abc451",
   "metadata": {
    "execution": {
     "iopub.execute_input": "2024-11-03T08:24:47.481545Z",
     "iopub.status.busy": "2024-11-03T08:24:47.481117Z",
     "iopub.status.idle": "2024-11-03T08:24:47.486603Z",
     "shell.execute_reply": "2024-11-03T08:24:47.485226Z"
    },
    "papermill": {
     "duration": 0.017128,
     "end_time": "2024-11-03T08:24:47.489602",
     "exception": false,
     "start_time": "2024-11-03T08:24:47.472474",
     "status": "completed"
    },
    "tags": []
   },
   "outputs": [],
   "source": [
    "# The lines below will show you a hint or the solution.\n",
    "# step_1.hint() \n",
    "# step_1.solution()\n"
   ]
  },
  {
   "cell_type": "markdown",
   "id": "b916ba44",
   "metadata": {
    "papermill": {
     "duration": 0.007054,
     "end_time": "2024-11-03T08:24:47.503543",
     "exception": false,
     "start_time": "2024-11-03T08:24:47.496489",
     "status": "completed"
    },
    "tags": []
   },
   "source": [
    "## Step 2: Specify and Fit the Model\n",
    "\n",
    "Create a `DecisionTreeRegressor` model and fit it to the relevant data.\n",
    "Set `random_state` to 1 again when creating the model."
   ]
  },
  {
   "cell_type": "code",
   "execution_count": 4,
   "id": "8f18d04b",
   "metadata": {
    "execution": {
     "iopub.execute_input": "2024-11-03T08:24:47.521284Z",
     "iopub.status.busy": "2024-11-03T08:24:47.520835Z",
     "iopub.status.idle": "2024-11-03T08:24:47.551412Z",
     "shell.execute_reply": "2024-11-03T08:24:47.549954Z"
    },
    "papermill": {
     "duration": 0.043273,
     "end_time": "2024-11-03T08:24:47.554619",
     "exception": false,
     "start_time": "2024-11-03T08:24:47.511346",
     "status": "completed"
    },
    "tags": []
   },
   "outputs": [
    {
     "name": "stdout",
     "output_type": "stream",
     "text": [
      "[335000. 205000. 139000. 205000.  89500.  58500. 350000. 149000. 755000.\n",
      " 180000.]\n",
      "[335000. 205000. 139000. 205000.  89500.  58500. 350000. 149000. 755000.\n",
      " 180000.]\n"
     ]
    },
    {
     "data": {
      "application/javascript": [
       "parent.postMessage({\"jupyterEvent\": \"custom.exercise_interaction\", \"data\": {\"outcomeType\": 1, \"valueTowardsCompletion\": 0.25, \"interactionType\": 1, \"questionType\": 2, \"questionId\": \"2_FitModelWithTrain\", \"learnToolsVersion\": \"0.3.4\", \"failureMessage\": \"\", \"exceptionClass\": \"\", \"trace\": \"\"}}, \"*\")"
      ],
      "text/plain": [
       "<IPython.core.display.Javascript object>"
      ]
     },
     "metadata": {},
     "output_type": "display_data"
    },
    {
     "data": {
      "text/markdown": [
       "<span style=\"color:#33cc33\">Correct</span>"
      ],
      "text/plain": [
       "Correct"
      ]
     },
     "metadata": {},
     "output_type": "display_data"
    }
   ],
   "source": [
    "# You imported DecisionTreeRegressor in your last exercise\n",
    "# and that code has been copied to the setup code above. So, no need to\n",
    "# import it again\n",
    "\n",
    "# Specify the model\n",
    "iowa_model = DecisionTreeRegressor(random_state = 1)\n",
    "\n",
    "# Fit iowa_model with the training data.\n",
    "iowa_model.fit(train_X, train_y)\n",
    "\n",
    "# Check your answer\n",
    "step_2.check()"
   ]
  },
  {
   "cell_type": "code",
   "execution_count": 5,
   "id": "d0069f55",
   "metadata": {
    "execution": {
     "iopub.execute_input": "2024-11-03T08:24:47.573000Z",
     "iopub.status.busy": "2024-11-03T08:24:47.572517Z",
     "iopub.status.idle": "2024-11-03T08:24:47.577594Z",
     "shell.execute_reply": "2024-11-03T08:24:47.576384Z"
    },
    "papermill": {
     "duration": 0.016934,
     "end_time": "2024-11-03T08:24:47.580231",
     "exception": false,
     "start_time": "2024-11-03T08:24:47.563297",
     "status": "completed"
    },
    "tags": []
   },
   "outputs": [],
   "source": [
    "# step_2.hint()\n",
    "# step_2.solution()"
   ]
  },
  {
   "cell_type": "markdown",
   "id": "e384d37a",
   "metadata": {
    "papermill": {
     "duration": 0.006912,
     "end_time": "2024-11-03T08:24:47.595467",
     "exception": false,
     "start_time": "2024-11-03T08:24:47.588555",
     "status": "completed"
    },
    "tags": []
   },
   "source": [
    "## Step 3: Make Predictions with Validation data\n"
   ]
  },
  {
   "cell_type": "code",
   "execution_count": 6,
   "id": "64f4dd92",
   "metadata": {
    "execution": {
     "iopub.execute_input": "2024-11-03T08:24:47.612085Z",
     "iopub.status.busy": "2024-11-03T08:24:47.611589Z",
     "iopub.status.idle": "2024-11-03T08:24:47.625003Z",
     "shell.execute_reply": "2024-11-03T08:24:47.623951Z"
    },
    "papermill": {
     "duration": 0.025678,
     "end_time": "2024-11-03T08:24:47.628270",
     "exception": false,
     "start_time": "2024-11-03T08:24:47.602592",
     "status": "completed"
    },
    "tags": []
   },
   "outputs": [
    {
     "data": {
      "application/javascript": [
       "parent.postMessage({\"jupyterEvent\": \"custom.exercise_interaction\", \"data\": {\"outcomeType\": 1, \"valueTowardsCompletion\": 0.25, \"interactionType\": 1, \"questionType\": 2, \"questionId\": \"3_ValPreds\", \"learnToolsVersion\": \"0.3.4\", \"failureMessage\": \"\", \"exceptionClass\": \"\", \"trace\": \"\"}}, \"*\")"
      ],
      "text/plain": [
       "<IPython.core.display.Javascript object>"
      ]
     },
     "metadata": {},
     "output_type": "display_data"
    },
    {
     "data": {
      "text/markdown": [
       "<span style=\"color:#33cc33\">Correct</span>"
      ],
      "text/plain": [
       "Correct"
      ]
     },
     "metadata": {},
     "output_type": "display_data"
    }
   ],
   "source": [
    "# Predict with all validation observations\n",
    "val_predictions = iowa_model.predict(val_X) \n",
    "\n",
    "# Check your answer\n",
    "step_3.check()"
   ]
  },
  {
   "cell_type": "code",
   "execution_count": 7,
   "id": "6136b95d",
   "metadata": {
    "execution": {
     "iopub.execute_input": "2024-11-03T08:24:47.645704Z",
     "iopub.status.busy": "2024-11-03T08:24:47.645292Z",
     "iopub.status.idle": "2024-11-03T08:24:47.650307Z",
     "shell.execute_reply": "2024-11-03T08:24:47.648961Z"
    },
    "papermill": {
     "duration": 0.017126,
     "end_time": "2024-11-03T08:24:47.653054",
     "exception": false,
     "start_time": "2024-11-03T08:24:47.635928",
     "status": "completed"
    },
    "tags": []
   },
   "outputs": [],
   "source": [
    "# step_3.hint()\n",
    "# step_3.solution()"
   ]
  },
  {
   "cell_type": "markdown",
   "id": "9eb46e7e",
   "metadata": {
    "papermill": {
     "duration": 0.007901,
     "end_time": "2024-11-03T08:24:47.668635",
     "exception": false,
     "start_time": "2024-11-03T08:24:47.660734",
     "status": "completed"
    },
    "tags": []
   },
   "source": [
    "Inspect your predictions and actual values from validation data."
   ]
  },
  {
   "cell_type": "code",
   "execution_count": 8,
   "id": "3c56d8d9",
   "metadata": {
    "execution": {
     "iopub.execute_input": "2024-11-03T08:24:47.687631Z",
     "iopub.status.busy": "2024-11-03T08:24:47.686799Z",
     "iopub.status.idle": "2024-11-03T08:24:47.701440Z",
     "shell.execute_reply": "2024-11-03T08:24:47.699804Z"
    },
    "papermill": {
     "duration": 0.02785,
     "end_time": "2024-11-03T08:24:47.704301",
     "exception": false,
     "start_time": "2024-11-03T08:24:47.676451",
     "status": "completed"
    },
    "tags": []
   },
   "outputs": [
    {
     "name": "stdout",
     "output_type": "stream",
     "text": [
      "   LotArea  YearBuilt  1stFlrSF  2ndFlrSF  FullBath  BedroomAbvGr  \\\n",
      "0     8450       2003       856       854         2             3   \n",
      "1     9600       1976      1262         0         2             3   \n",
      "2    11250       2001       920       866         2             3   \n",
      "3     9550       1915       961       756         1             3   \n",
      "4    14260       2000      1145      1053         2             4   \n",
      "\n",
      "   TotRmsAbvGrd  \n",
      "0             8  \n",
      "1             6  \n",
      "2             6  \n",
      "3             7  \n",
      "4             9  \n",
      "     LotArea  YearBuilt  1stFlrSF  2ndFlrSF  FullBath  BedroomAbvGr  \\\n",
      "529    32668       1957      2515         0         3             4   \n",
      "491     9490       1941       958       620         1             3   \n",
      "459     7015       1950       979       224         1             3   \n",
      "279    10005       1977      1156       866         2             4   \n",
      "655     1680       1971       525       567         1             3   \n",
      "\n",
      "     TotRmsAbvGrd  \n",
      "529             9  \n",
      "491             5  \n",
      "459             5  \n",
      "279             8  \n",
      "655             6  \n"
     ]
    }
   ],
   "source": [
    "# print the top few validation predictions\n",
    "print(X.head())\n",
    "# print the top few actual prices from validation data\n",
    "print(val_X.head())"
   ]
  },
  {
   "cell_type": "markdown",
   "id": "90d5fa56",
   "metadata": {
    "papermill": {
     "duration": 0.007527,
     "end_time": "2024-11-03T08:24:47.719905",
     "exception": false,
     "start_time": "2024-11-03T08:24:47.712378",
     "status": "completed"
    },
    "tags": []
   },
   "source": [
    "What do you notice that is different from what you saw with in-sample predictions (which are printed after the top code cell in this page).\n",
    "\n",
    "Do you remember why validation predictions differ from in-sample (or training) predictions? This is an important idea from the last lesson.\n",
    "\n",
    "## Step 4: Calculate the Mean Absolute Error in Validation Data\n"
   ]
  },
  {
   "cell_type": "code",
   "execution_count": 9,
   "id": "68d8877b",
   "metadata": {
    "execution": {
     "iopub.execute_input": "2024-11-03T08:24:47.737780Z",
     "iopub.status.busy": "2024-11-03T08:24:47.737332Z",
     "iopub.status.idle": "2024-11-03T08:24:47.750937Z",
     "shell.execute_reply": "2024-11-03T08:24:47.749564Z"
    },
    "papermill": {
     "duration": 0.025831,
     "end_time": "2024-11-03T08:24:47.753553",
     "exception": false,
     "start_time": "2024-11-03T08:24:47.727722",
     "status": "completed"
    },
    "tags": []
   },
   "outputs": [
    {
     "name": "stdout",
     "output_type": "stream",
     "text": [
      "32966.449315068494\n"
     ]
    },
    {
     "data": {
      "application/javascript": [
       "parent.postMessage({\"jupyterEvent\": \"custom.exercise_interaction\", \"data\": {\"outcomeType\": 2, \"failureMessage\": \"Incorrect value for `val_mae`: `32966.449315068494`\", \"interactionType\": 1, \"questionType\": 1, \"questionId\": \"4_MAE\", \"learnToolsVersion\": \"0.3.4\", \"valueTowardsCompletion\": 0.0, \"exceptionClass\": \"\", \"trace\": \"\"}}, \"*\")"
      ],
      "text/plain": [
       "<IPython.core.display.Javascript object>"
      ]
     },
     "metadata": {},
     "output_type": "display_data"
    },
    {
     "data": {
      "text/markdown": [
       "<span style=\"color:#cc3333\">Incorrect:</span> Incorrect value for `val_mae`: `32966.449315068494`"
      ],
      "text/plain": [
       "Incorrect: Incorrect value for `val_mae`: `32966.449315068494`"
      ]
     },
     "metadata": {},
     "output_type": "display_data"
    }
   ],
   "source": [
    "from sklearn.metrics import mean_absolute_error\n",
    "val_mae = mean_absolute_error(val_y, val_predictions)\n",
    "\n",
    "# uncomment following line to see the validation_mae\n",
    "print(val_mae)\n",
    "\n",
    "# Check your answer\n",
    "step_4.check()"
   ]
  },
  {
   "cell_type": "code",
   "execution_count": 10,
   "id": "36ae704a",
   "metadata": {
    "execution": {
     "iopub.execute_input": "2024-11-03T08:24:47.772360Z",
     "iopub.status.busy": "2024-11-03T08:24:47.771937Z",
     "iopub.status.idle": "2024-11-03T08:24:47.777024Z",
     "shell.execute_reply": "2024-11-03T08:24:47.775677Z"
    },
    "papermill": {
     "duration": 0.017547,
     "end_time": "2024-11-03T08:24:47.779831",
     "exception": false,
     "start_time": "2024-11-03T08:24:47.762284",
     "status": "completed"
    },
    "tags": []
   },
   "outputs": [],
   "source": [
    "# step_4.hint()\n",
    "# step_4.solution()"
   ]
  },
  {
   "cell_type": "markdown",
   "id": "23c0311b",
   "metadata": {
    "papermill": {
     "duration": 0.007862,
     "end_time": "2024-11-03T08:24:47.796050",
     "exception": false,
     "start_time": "2024-11-03T08:24:47.788188",
     "status": "completed"
    },
    "tags": []
   },
   "source": [
    "Is that MAE good?  There isn't a general rule for what values are good that applies across applications. But you'll see how to use (and improve) this number in the next step.\n",
    "\n",
    "# Keep Going\n",
    "\n",
    "You are ready for **[Underfitting and Overfitting](https://www.kaggle.com/dansbecker/underfitting-and-overfitting).**\n"
   ]
  },
  {
   "cell_type": "markdown",
   "id": "31d6774a",
   "metadata": {
    "papermill": {
     "duration": 0.007891,
     "end_time": "2024-11-03T08:24:47.812200",
     "exception": false,
     "start_time": "2024-11-03T08:24:47.804309",
     "status": "completed"
    },
    "tags": []
   },
   "source": [
    "---\n",
    "\n",
    "\n",
    "\n",
    "\n",
    "*Have questions or comments? Visit the [course discussion forum](https://www.kaggle.com/learn/intro-to-machine-learning/discussion) to chat with other learners.*"
   ]
  }
 ],
 "metadata": {
  "kaggle": {
   "accelerator": "none",
   "dataSources": [
    {
     "databundleVersionId": 111096,
     "sourceId": 10211,
     "sourceType": "competition"
    },
    {
     "datasetId": 11167,
     "sourceId": 15520,
     "sourceType": "datasetVersion"
    },
    {
     "datasetId": 2709,
     "sourceId": 38454,
     "sourceType": "datasetVersion"
    }
   ],
   "isGpuEnabled": false,
   "isInternetEnabled": false,
   "language": "python",
   "sourceType": "notebook"
  },
  "kernelspec": {
   "display_name": "Python 3",
   "language": "python",
   "name": "python3"
  },
  "language_info": {
   "codemirror_mode": {
    "name": "ipython",
    "version": 3
   },
   "file_extension": ".py",
   "mimetype": "text/x-python",
   "name": "python",
   "nbconvert_exporter": "python",
   "pygments_lexer": "ipython3",
   "version": "3.10.14"
  },
  "papermill": {
   "default_parameters": {},
   "duration": 7.506414,
   "end_time": "2024-11-03T08:24:48.545415",
   "environment_variables": {},
   "exception": null,
   "input_path": "__notebook__.ipynb",
   "output_path": "__notebook__.ipynb",
   "parameters": {},
   "start_time": "2024-11-03T08:24:41.039001",
   "version": "2.6.0"
  }
 },
 "nbformat": 4,
 "nbformat_minor": 5
}
